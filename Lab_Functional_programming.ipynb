{
 "cells": [
  {
   "cell_type": "markdown",
   "metadata": {
    "colab_type": "text",
    "id": "6I1W1y5zDCIN"
   },
   "source": [
    "# Before your start:\n",
    "- Comment as much as you can\n",
    "- Happy learning!"
   ]
  },
  {
   "cell_type": "code",
   "execution_count": 1,
   "metadata": {
    "colab": {},
    "colab_type": "code",
    "id": "1t-NDi5NDCIW"
   },
   "outputs": [],
   "source": [
    "import numpy as np\n",
    "import pandas as pd"
   ]
  },
  {
   "cell_type": "markdown",
   "metadata": {
    "colab_type": "text",
    "id": "P53qCn3xDCIg"
   },
   "source": [
    "# Inside a function\n",
    "You are already familiar with several built in functions on python as well as libraries.  \n",
    "Let's try to figure out how they are made in pure python. "
   ]
  },
  {
   "cell_type": "markdown",
   "metadata": {
    "colab_type": "text",
    "id": "7Vq9tOLcDCIi"
   },
   "source": [
    "Create a function that `returns the count` of a list of numbers"
   ]
  },
  {
   "cell_type": "code",
   "execution_count": 2,
   "metadata": {},
   "outputs": [],
   "source": [
    "test_list = [1,2,3,4,5,6,7,8,9,10,12,13]"
   ]
  },
  {
   "cell_type": "code",
   "execution_count": 3,
   "metadata": {},
   "outputs": [],
   "source": [
    "def count_number(x):\n",
    "    return len(x)"
   ]
  },
  {
   "cell_type": "code",
   "execution_count": 4,
   "metadata": {},
   "outputs": [
    {
     "data": {
      "text/plain": [
       "12"
      ]
     },
     "execution_count": 4,
     "metadata": {},
     "output_type": "execute_result"
    }
   ],
   "source": [
    "print(count_number(test_list))"
   ]
  },
  {
   "cell_type": "markdown",
   "metadata": {
    "colab_type": "text",
    "id": "02PYrNc5DCIt"
   },
   "source": [
    "Create a function that `returns the mean` of a list of numbers"
   ]
  },
  {
   "cell_type": "code",
   "execution_count": 5,
   "metadata": {},
   "outputs": [],
   "source": [
    "def f_mean(x):\n",
    "        mean_f= np.mean(x)\n",
    "        return mean_f"
   ]
  },
  {
   "cell_type": "code",
   "execution_count": 6,
   "metadata": {},
   "outputs": [
    {
     "data": {
      "text/plain": [
       "6.666666666666667"
      ]
     },
     "execution_count": 6,
     "metadata": {},
     "output_type": "execute_result"
    }
   ],
   "source": [
    "print(f_mean(test_list))"
   ]
  },
  {
   "cell_type": "markdown",
   "metadata": {
    "colab_type": "text",
    "id": "xy1rA4EeDCI5"
   },
   "source": [
    "Create a function that `returns the standard deviation` of a list of numbers using the previous functions you created. "
   ]
  },
  {
   "cell_type": "code",
   "execution_count": 7,
   "metadata": {},
   "outputs": [],
   "source": [
    "def f_std(x):\n",
    "    std_f = np.std(x)\n",
    "    return std_f"
   ]
  },
  {
   "cell_type": "code",
   "execution_count": 8,
   "metadata": {},
   "outputs": [
    {
     "data": {
      "text/plain": [
       "3.7043517951488116"
      ]
     },
     "execution_count": 8,
     "metadata": {},
     "output_type": "execute_result"
    }
   ],
   "source": [
    "print(f_std(test_list))"
   ]
  },
  {
   "cell_type": "markdown",
   "metadata": {
    "colab_type": "text",
    "id": "Dro2ll4WDCJB"
   },
   "source": [
    "Create a function that `returns the count, mean and standard deviation` of a given list.  \n",
    "`Document this function` using triple quotes, your documentation should have description, parameters, returns and examples. "
   ]
  },
  {
   "cell_type": "code",
   "execution_count": 9,
   "metadata": {},
   "outputs": [],
   "source": [
    "def f_tot(x):\n",
    "    count_f = len(x)\n",
    "    mean_f = np.mean(x)\n",
    "    std_f = np.std(x)\n",
    "    return count_f, mean_f, std_f"
   ]
  },
  {
   "cell_type": "code",
   "execution_count": 10,
   "metadata": {},
   "outputs": [
    {
     "data": {
      "text/plain": [
       "(12, 6.666666666666667, 3.7043517951488116)"
      ]
     },
     "execution_count": 10,
     "metadata": {},
     "output_type": "execute_result"
    }
   ],
   "source": [
    "print(f_tot(test_list))"
   ]
  },
  {
   "cell_type": "markdown",
   "metadata": {
    "colab_type": "text",
    "id": "-_YUdHo7DCJJ"
   },
   "source": [
    "# String Cleaning\n",
    "When working with textual data you will often have to clean it before being able to analyze it.  \n",
    "Create a function that receives a string and `returns that string in all lower case, without special characters and in alphabetical order`. "
   ]
  },
  {
   "cell_type": "code",
   "execution_count": 1,
   "metadata": {},
   "outputs": [],
   "source": [
    "test_string = \"xnsiAAx_vcdsmc oB.,/?xedxmew\""
   ]
  },
  {
   "cell_type": "code",
   "execution_count": 2,
   "metadata": {},
   "outputs": [],
   "source": [
    "import re"
   ]
  },
  {
   "cell_type": "code",
   "execution_count": 5,
   "metadata": {},
   "outputs": [],
   "source": [
    "def string_cleaning(phrase):\n",
    "    phrase = phrase.lower()\n",
    "    phrase = [character for character in phrase if character.isalnum()]\n",
    "    phrase.sort()\n",
    "    phrase = ''.join(phrase)\n",
    "    return phrase"
   ]
  },
  {
   "cell_type": "code",
   "execution_count": 6,
   "metadata": {},
   "outputs": [
    {
     "data": {
      "text/plain": [
       "'aabccddeeimmnossvwxxxx'"
      ]
     },
     "execution_count": 6,
     "metadata": {},
     "output_type": "execute_result"
    }
   ],
   "source": [
    "string_cleaning(test_string)"
   ]
  },
  {
   "cell_type": "markdown",
   "metadata": {
    "colab_type": "text",
    "id": "23s3vEQ-DCJO"
   },
   "source": [
    "# Classification\n",
    "Sometimes datasets provide very good and precise information but not in the way we need to use it.  \n",
    "In this challenge, `make a function` that takes the list below and turns it into a category list. \n",
    "You can use the median to set the center of your  scale:  \n",
    "`\"above the median\", \"median\", \"below the median\"`."
   ]
  },
  {
   "cell_type": "code",
   "execution_count": 12,
   "metadata": {},
   "outputs": [],
   "source": [
    "list_for_classification = [ 50, 120, 30, 10, 90, 70, 10]"
   ]
  },
  {
   "cell_type": "code",
   "execution_count": 21,
   "metadata": {},
   "outputs": [
    {
     "name": "stdout",
     "output_type": "stream",
     "text": [
      "Abaixo da média: [30, 10, 10] \n",
      "Igual a média: [50] \n",
      "Acima da média [120, 90, 70]\n"
     ]
    }
   ],
   "source": [
    "abaixo_media = []\n",
    "igual_media = []\n",
    "acima_media = []\n",
    "\n",
    "def f_class(x):\n",
    "    f_median = np.median(x)\n",
    "    for i in x:\n",
    "        if i < f_median:\n",
    "            abaixo_media.append(i)\n",
    "        elif i == f_median:\n",
    "            igual_media.append(i)\n",
    "        else:\n",
    "            acima_media.append(i)\n",
    "    return print(f'Abaixo da média: {abaixo_media} \\nIgual a média: {igual_media} \\nAcima da média {acima_media}')\n",
    "\n",
    "f_class(list_for_classification)"
   ]
  },
  {
   "cell_type": "markdown",
   "metadata": {
    "colab_type": "text",
    "id": "qgCz4w1XDCJU"
   },
   "source": [
    "# Recursion \n",
    "In some cases it is interesting to build a function that calls itself.  \n",
    "Use a `recursive function` that asks for an `input` from the users age.  \n",
    "Keeps asking it until the input is a `number between 0 and 150`. "
   ]
  },
  {
   "cell_type": "code",
   "execution_count": 8,
   "metadata": {},
   "outputs": [],
   "source": [
    "def number150():\n",
    "    number = input(\"Please insert your age\")\n",
    "    if number.isalpha():\n",
    "        number150()\n",
    "    else:\n",
    "        if int(number)>150:\n",
    "            number150()\n",
    "        elif int(number)<0:\n",
    "            number150()\n",
    "        else:\n",
    "            return f\"Your Age is {number}\""
   ]
  },
  {
   "cell_type": "code",
   "execution_count": 9,
   "metadata": {},
   "outputs": [
    {
     "name": "stdout",
     "output_type": "stream",
     "text": [
      "Please insert your age26\n"
     ]
    },
    {
     "data": {
      "text/plain": [
       "'Your Age is 26'"
      ]
     },
     "execution_count": 9,
     "metadata": {},
     "output_type": "execute_result"
    }
   ],
   "source": [
    "number150()"
   ]
  },
  {
   "cell_type": "markdown",
   "metadata": {
    "colab_type": "text",
    "id": "k0oT8Xo2DCJa"
   },
   "source": [
    "# Global and local variables "
   ]
  },
  {
   "cell_type": "markdown",
   "metadata": {},
   "source": [
    "Make a function sort as words in alphabetical order.  \n",
    "Expected output:\n",
    "````python\n",
    "'AI Big Data Data Warehouse Machine Learning Pipeline'\n",
    "````"
   ]
  },
  {
   "cell_type": "markdown",
   "metadata": {},
   "source": [
    "Make the function using local variables"
   ]
  },
  {
   "cell_type": "code",
   "execution_count": null,
   "metadata": {},
   "outputs": [],
   "source": [
    "# Your code here\n",
    "def alphabetical_order_local():\n",
    "    local_variable =  \"Big Data, Machine Learning, AI, Data Warehouse, Pipeline\"\n"
   ]
  },
  {
   "cell_type": "code",
   "execution_count": null,
   "metadata": {},
   "outputs": [],
   "source": [
    "def alphabetical_order_local():\n",
    "    local_variable =  \"Big Data, Machine Learning, AI, Data Warehouse, Pipeline\"\n",
    "    string_ordered = ' '.join(sorted(loca_variable.split(\", \")))\n",
    "    return string_ordered\n",
    "alphabetical_order()"
   ]
  },
  {
   "cell_type": "markdown",
   "metadata": {},
   "source": [
    "Make the function using global variables"
   ]
  },
  {
   "cell_type": "code",
   "execution_count": null,
   "metadata": {},
   "outputs": [],
   "source": [
    "global_variable = \"Big Data, Machine Learning, AI, Data Warehouse, Pipeline\"\n",
    "def alphabetical_order_global():\n",
    "    global global_variable\n",
    "    global_variable = ' '.join(sorted(buzz.split(\", \")))\n",
    "    \n",
    "alphabetical_order_global()\n",
    "global_variable"
   ]
  }
 ],
 "metadata": {
  "colab": {
   "name": "functional_programming.ipynb",
   "provenance": []
  },
  "kernelspec": {
   "display_name": "Python 3",
   "language": "python",
   "name": "python3"
  },
  "language_info": {
   "codemirror_mode": {
    "name": "ipython",
    "version": 3
   },
   "file_extension": ".py",
   "mimetype": "text/x-python",
   "name": "python",
   "nbconvert_exporter": "python",
   "pygments_lexer": "ipython3",
   "version": "3.8.5"
  },
  "toc": {
   "base_numbering": 1,
   "nav_menu": {},
   "number_sections": true,
   "sideBar": true,
   "skip_h1_title": false,
   "title_cell": "Table of Contents",
   "title_sidebar": "Contents",
   "toc_cell": false,
   "toc_position": {},
   "toc_section_display": true,
   "toc_window_display": false
  },
  "varInspector": {
   "cols": {
    "lenName": 16,
    "lenType": 16,
    "lenVar": 40
   },
   "kernels_config": {
    "python": {
     "delete_cmd_postfix": "",
     "delete_cmd_prefix": "del ",
     "library": "var_list.py",
     "varRefreshCmd": "print(var_dic_list())"
    },
    "r": {
     "delete_cmd_postfix": ") ",
     "delete_cmd_prefix": "rm(",
     "library": "var_list.r",
     "varRefreshCmd": "cat(var_dic_list()) "
    }
   },
   "types_to_exclude": [
    "module",
    "function",
    "builtin_function_or_method",
    "instance",
    "_Feature"
   ],
   "window_display": false
  }
 },
 "nbformat": 4,
 "nbformat_minor": 1
}
